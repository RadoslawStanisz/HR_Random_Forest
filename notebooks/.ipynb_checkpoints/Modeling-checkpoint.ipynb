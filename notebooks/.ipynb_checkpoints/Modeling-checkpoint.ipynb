{
 "cells": [
  {
   "cell_type": "markdown",
   "id": "a1db5bea",
   "metadata": {},
   "source": [
    "### Description\n",
    "\n",
    "The goal of this notebook is to predict whether an employee leaves the company, which is a categorical outcome variable. So this is a task  of **binary classification** and a Tree-based Machine Learning model will be used, more specifically a Random Forest."
   ]
  },
  {
   "cell_type": "code",
   "execution_count": 1,
   "id": "889e8db8",
   "metadata": {},
   "outputs": [],
   "source": [
    "import pandas as pd\n",
    "import numpy as np\n",
    "import matplotlib.pyplot as plt\n",
    "\n",
    "# For functions from helper_functions.py module\n",
    "from helper_functions import make_results, get_scores, write_pickle, read_pickle\n",
    "\n",
    "from sklearn.metrics import accuracy_score, precision_score, recall_score,\\\n",
    "f1_score, confusion_matrix, ConfusionMatrixDisplay, classification_report\n",
    "from sklearn.metrics import roc_auc_score, roc_curve\n",
    "from sklearn.ensemble import RandomForestClassifier\n",
    "from sklearn.model_selection import GridSearchCV, train_test_split\n"
   ]
  },
  {
   "cell_type": "code",
   "execution_count": 2,
   "id": "6695365d",
   "metadata": {},
   "outputs": [],
   "source": [
    "df = pd.read_csv('../data/HR_capstone_dataset_cleaned.csv')"
   ]
  },
  {
   "cell_type": "markdown",
   "id": "3f1da1b1",
   "metadata": {},
   "source": [
    "#### Feature engineering"
   ]
  },
  {
   "cell_type": "code",
   "execution_count": 3,
   "id": "8d4d2c2e",
   "metadata": {},
   "outputs": [
    {
     "name": "stdout",
     "output_type": "stream",
     "text": [
      "<class 'pandas.core.frame.DataFrame'>\n",
      "RangeIndex: 11991 entries, 0 to 11990\n",
      "Data columns (total 10 columns):\n",
      " #   Column                 Non-Null Count  Dtype  \n",
      "---  ------                 --------------  -----  \n",
      " 0   satisfaction_level     11991 non-null  float64\n",
      " 1   last_evaluation        11991 non-null  float64\n",
      " 2   number_project         11991 non-null  int64  \n",
      " 3   average_monthly_hours  11991 non-null  int64  \n",
      " 4   tenure                 11991 non-null  int64  \n",
      " 5   work_accident          11991 non-null  int64  \n",
      " 6   left                   11991 non-null  int64  \n",
      " 7   promotion_last_5years  11991 non-null  int64  \n",
      " 8   department             11991 non-null  object \n",
      " 9   salary                 11991 non-null  object \n",
      "dtypes: float64(2), int64(6), object(2)\n",
      "memory usage: 936.9+ KB\n"
     ]
    }
   ],
   "source": [
    "df.info()"
   ]
  },
  {
   "cell_type": "markdown",
   "id": "811ed2f3",
   "metadata": {},
   "source": [
    "There are two non-numeric variables: \n",
    "\n",
    "- `department`- a categorical variable, which needs to be dummied\n",
    "- `salary`-  an ordinal variable, It will be converted from levels to numbers 0&ndash;2 (there is hierarchy)."
   ]
  },
  {
   "cell_type": "code",
   "execution_count": 4,
   "id": "50763ee5",
   "metadata": {},
   "outputs": [
    {
     "data": {
      "text/html": [
       "<div>\n",
       "<style scoped>\n",
       "    .dataframe tbody tr th:only-of-type {\n",
       "        vertical-align: middle;\n",
       "    }\n",
       "\n",
       "    .dataframe tbody tr th {\n",
       "        vertical-align: top;\n",
       "    }\n",
       "\n",
       "    .dataframe thead th {\n",
       "        text-align: right;\n",
       "    }\n",
       "</style>\n",
       "<table border=\"1\" class=\"dataframe\">\n",
       "  <thead>\n",
       "    <tr style=\"text-align: right;\">\n",
       "      <th></th>\n",
       "      <th>satisfaction_level</th>\n",
       "      <th>last_evaluation</th>\n",
       "      <th>number_project</th>\n",
       "      <th>average_monthly_hours</th>\n",
       "      <th>tenure</th>\n",
       "      <th>work_accident</th>\n",
       "      <th>left</th>\n",
       "      <th>promotion_last_5years</th>\n",
       "      <th>salary</th>\n",
       "      <th>department_IT</th>\n",
       "      <th>department_RandD</th>\n",
       "      <th>department_accounting</th>\n",
       "      <th>department_hr</th>\n",
       "      <th>department_management</th>\n",
       "      <th>department_marketing</th>\n",
       "      <th>department_product_mng</th>\n",
       "      <th>department_sales</th>\n",
       "      <th>department_support</th>\n",
       "      <th>department_technical</th>\n",
       "    </tr>\n",
       "  </thead>\n",
       "  <tbody>\n",
       "    <tr>\n",
       "      <th>0</th>\n",
       "      <td>0.38</td>\n",
       "      <td>0.53</td>\n",
       "      <td>2</td>\n",
       "      <td>157</td>\n",
       "      <td>3</td>\n",
       "      <td>0</td>\n",
       "      <td>1</td>\n",
       "      <td>0</td>\n",
       "      <td>0</td>\n",
       "      <td>0</td>\n",
       "      <td>0</td>\n",
       "      <td>0</td>\n",
       "      <td>0</td>\n",
       "      <td>0</td>\n",
       "      <td>0</td>\n",
       "      <td>0</td>\n",
       "      <td>1</td>\n",
       "      <td>0</td>\n",
       "      <td>0</td>\n",
       "    </tr>\n",
       "    <tr>\n",
       "      <th>1</th>\n",
       "      <td>0.80</td>\n",
       "      <td>0.86</td>\n",
       "      <td>5</td>\n",
       "      <td>262</td>\n",
       "      <td>6</td>\n",
       "      <td>0</td>\n",
       "      <td>1</td>\n",
       "      <td>0</td>\n",
       "      <td>1</td>\n",
       "      <td>0</td>\n",
       "      <td>0</td>\n",
       "      <td>0</td>\n",
       "      <td>0</td>\n",
       "      <td>0</td>\n",
       "      <td>0</td>\n",
       "      <td>0</td>\n",
       "      <td>1</td>\n",
       "      <td>0</td>\n",
       "      <td>0</td>\n",
       "    </tr>\n",
       "    <tr>\n",
       "      <th>2</th>\n",
       "      <td>0.11</td>\n",
       "      <td>0.88</td>\n",
       "      <td>7</td>\n",
       "      <td>272</td>\n",
       "      <td>4</td>\n",
       "      <td>0</td>\n",
       "      <td>1</td>\n",
       "      <td>0</td>\n",
       "      <td>1</td>\n",
       "      <td>0</td>\n",
       "      <td>0</td>\n",
       "      <td>0</td>\n",
       "      <td>0</td>\n",
       "      <td>0</td>\n",
       "      <td>0</td>\n",
       "      <td>0</td>\n",
       "      <td>1</td>\n",
       "      <td>0</td>\n",
       "      <td>0</td>\n",
       "    </tr>\n",
       "    <tr>\n",
       "      <th>3</th>\n",
       "      <td>0.72</td>\n",
       "      <td>0.87</td>\n",
       "      <td>5</td>\n",
       "      <td>223</td>\n",
       "      <td>5</td>\n",
       "      <td>0</td>\n",
       "      <td>1</td>\n",
       "      <td>0</td>\n",
       "      <td>0</td>\n",
       "      <td>0</td>\n",
       "      <td>0</td>\n",
       "      <td>0</td>\n",
       "      <td>0</td>\n",
       "      <td>0</td>\n",
       "      <td>0</td>\n",
       "      <td>0</td>\n",
       "      <td>1</td>\n",
       "      <td>0</td>\n",
       "      <td>0</td>\n",
       "    </tr>\n",
       "    <tr>\n",
       "      <th>4</th>\n",
       "      <td>0.37</td>\n",
       "      <td>0.52</td>\n",
       "      <td>2</td>\n",
       "      <td>159</td>\n",
       "      <td>3</td>\n",
       "      <td>0</td>\n",
       "      <td>1</td>\n",
       "      <td>0</td>\n",
       "      <td>0</td>\n",
       "      <td>0</td>\n",
       "      <td>0</td>\n",
       "      <td>0</td>\n",
       "      <td>0</td>\n",
       "      <td>0</td>\n",
       "      <td>0</td>\n",
       "      <td>0</td>\n",
       "      <td>1</td>\n",
       "      <td>0</td>\n",
       "      <td>0</td>\n",
       "    </tr>\n",
       "  </tbody>\n",
       "</table>\n",
       "</div>"
      ],
      "text/plain": [
       "   satisfaction_level  last_evaluation  number_project  average_monthly_hours  \\\n",
       "0                0.38             0.53               2                    157   \n",
       "1                0.80             0.86               5                    262   \n",
       "2                0.11             0.88               7                    272   \n",
       "3                0.72             0.87               5                    223   \n",
       "4                0.37             0.52               2                    159   \n",
       "\n",
       "   tenure  work_accident  left  promotion_last_5years  salary  department_IT  \\\n",
       "0       3              0     1                      0       0              0   \n",
       "1       6              0     1                      0       1              0   \n",
       "2       4              0     1                      0       1              0   \n",
       "3       5              0     1                      0       0              0   \n",
       "4       3              0     1                      0       0              0   \n",
       "\n",
       "   department_RandD  department_accounting  department_hr  \\\n",
       "0                 0                      0              0   \n",
       "1                 0                      0              0   \n",
       "2                 0                      0              0   \n",
       "3                 0                      0              0   \n",
       "4                 0                      0              0   \n",
       "\n",
       "   department_management  department_marketing  department_product_mng  \\\n",
       "0                      0                     0                       0   \n",
       "1                      0                     0                       0   \n",
       "2                      0                     0                       0   \n",
       "3                      0                     0                       0   \n",
       "4                      0                     0                       0   \n",
       "\n",
       "   department_sales  department_support  department_technical  \n",
       "0                 1                   0                     0  \n",
       "1                 1                   0                     0  \n",
       "2                 1                   0                     0  \n",
       "3                 1                   0                     0  \n",
       "4                 1                   0                     0  "
      ]
     },
     "execution_count": 4,
     "metadata": {},
     "output_type": "execute_result"
    }
   ],
   "source": [
    "df1 = df.copy()\n",
    "\n",
    "df1['salary'] = (\n",
    "    df1['salary'].astype('category')\n",
    "    .cat.set_categories(['low', 'medium', 'high'])\n",
    "    .cat.codes\n",
    ")\n",
    "\n",
    "df1 = pd.get_dummies(df1, drop_first=False, dtype=int)\n",
    "df1.head()"
   ]
  },
  {
   "cell_type": "markdown",
   "id": "ed5c076c",
   "metadata": {},
   "source": [
    "It's likely that the company won't have satisfaction levels reported for all of its employees. Therefore the model will not include this feature. It's also possible that the `average_monthly_hours` column is a source of some data leakage. If employees have already decided upon quitting, or have already been identified by management as people to be fired, they may be working fewer hours. In this case a new binary variable will be created capturing whether an employee is overworked."
   ]
  },
  {
   "cell_type": "code",
   "execution_count": 5,
   "id": "621896bb",
   "metadata": {},
   "outputs": [],
   "source": [
    "df1 = df1.drop('satisfaction_level', axis=1)"
   ]
  },
  {
   "cell_type": "code",
   "execution_count": 6,
   "id": "94282157",
   "metadata": {},
   "outputs": [],
   "source": [
    "df1['overworked'] = (df1['average_monthly_hours'] > 175).astype(int)\n",
    "df1 = df1.drop('average_monthly_hours', axis=1)"
   ]
  },
  {
   "cell_type": "markdown",
   "id": "7137cf53",
   "metadata": {},
   "source": [
    "#### Building model"
   ]
  },
  {
   "cell_type": "code",
   "execution_count": 7,
   "id": "f94d73fe",
   "metadata": {},
   "outputs": [],
   "source": [
    "# Isolate the outcome variable\n",
    "y = df1['left']\n",
    "\n",
    "# Select the features\n",
    "X = df1.drop('left', axis=1)"
   ]
  },
  {
   "cell_type": "code",
   "execution_count": 8,
   "id": "c9484dfe",
   "metadata": {},
   "outputs": [],
   "source": [
    "# Create test data\n",
    "X_train, X_test, y_train, y_test = train_test_split(X, y, test_size=0.25, stratify=y, random_state=0)"
   ]
  },
  {
   "cell_type": "code",
   "execution_count": 9,
   "id": "289c0b6b",
   "metadata": {},
   "outputs": [],
   "source": [
    "rf = RandomForestClassifier(random_state=0)\n",
    "\n",
    "# A dictionary of hyperparameters to search over\n",
    "cv_params = {'max_depth': [3,5, None], \n",
    "             'max_features': [1.0],\n",
    "             'max_samples': [0.7, 1.0],\n",
    "             'min_samples_leaf': [1,2,3],\n",
    "             'min_samples_split': [2,3,4],\n",
    "             'n_estimators': [300, 500],\n",
    "             }  \n",
    "\n",
    "# A list of scoring metrics to capture\n",
    "scoring = ['accuracy', 'precision', 'recall', 'f1', 'roc_auc']\n",
    "\n",
    "# Instantiate GridSearch\n",
    "rf2 = GridSearchCV(rf, cv_params, scoring=scoring, cv=4, refit='roc_auc')"
   ]
  },
  {
   "cell_type": "code",
   "execution_count": 10,
   "id": "42d3f52e",
   "metadata": {},
   "outputs": [],
   "source": [
    "# %%time\n",
    "# rf2.fit(X_train, y_train) "
   ]
  },
  {
   "cell_type": "code",
   "execution_count": 11,
   "id": "634b32ec",
   "metadata": {},
   "outputs": [],
   "source": [
    "path = './'\n",
    "# write_pickle(path, rf2, 'hr_random_forest')"
   ]
  },
  {
   "cell_type": "code",
   "execution_count": 12,
   "id": "ff1d5fe3",
   "metadata": {},
   "outputs": [],
   "source": [
    "rf2 = read_pickle(path, 'hr_random_forest')"
   ]
  },
  {
   "cell_type": "code",
   "execution_count": 13,
   "id": "52c55cbe",
   "metadata": {},
   "outputs": [
    {
     "data": {
      "text/plain": [
       "{'max_depth': 5,\n",
       " 'max_features': 1.0,\n",
       " 'max_samples': 0.7,\n",
       " 'min_samples_leaf': 2,\n",
       " 'min_samples_split': 2,\n",
       " 'n_estimators': 300}"
      ]
     },
     "execution_count": 13,
     "metadata": {},
     "output_type": "execute_result"
    }
   ],
   "source": [
    "# Check best params\n",
    "rf2.best_params_"
   ]
  },
  {
   "cell_type": "markdown",
   "id": "d8a758dc",
   "metadata": {},
   "source": [
    "#### Evaluate the model"
   ]
  },
  {
   "cell_type": "code",
   "execution_count": 14,
   "id": "1f1c8590",
   "metadata": {},
   "outputs": [
    {
     "name": "stdout",
     "output_type": "stream",
     "text": [
      "                    model  precision    recall        F1  accuracy      auc\n",
      "0  hr_random_forest_train   0.866758  0.878754  0.872407  0.957411  0.96481\n"
     ]
    }
   ],
   "source": [
    "# model with the best mean metric score across all validation folds\n",
    "\n",
    "rf2_cv_results = make_results('hr_random_forest_train', rf2, 'auc')\n",
    "print(rf2_cv_results)"
   ]
  },
  {
   "cell_type": "code",
   "execution_count": 15,
   "id": "19577464",
   "metadata": {},
   "outputs": [
    {
     "data": {
      "text/html": [
       "<div>\n",
       "<style scoped>\n",
       "    .dataframe tbody tr th:only-of-type {\n",
       "        vertical-align: middle;\n",
       "    }\n",
       "\n",
       "    .dataframe tbody tr th {\n",
       "        vertical-align: top;\n",
       "    }\n",
       "\n",
       "    .dataframe thead th {\n",
       "        text-align: right;\n",
       "    }\n",
       "</style>\n",
       "<table border=\"1\" class=\"dataframe\">\n",
       "  <thead>\n",
       "    <tr style=\"text-align: right;\">\n",
       "      <th></th>\n",
       "      <th>model</th>\n",
       "      <th>precision</th>\n",
       "      <th>recall</th>\n",
       "      <th>f1</th>\n",
       "      <th>accuracy</th>\n",
       "      <th>AUC</th>\n",
       "    </tr>\n",
       "  </thead>\n",
       "  <tbody>\n",
       "    <tr>\n",
       "      <th>0</th>\n",
       "      <td>hr_random_forest_test</td>\n",
       "      <td>0.870406</td>\n",
       "      <td>0.903614</td>\n",
       "      <td>0.8867</td>\n",
       "      <td>0.961641</td>\n",
       "      <td>0.938407</td>\n",
       "    </tr>\n",
       "  </tbody>\n",
       "</table>\n",
       "</div>"
      ],
      "text/plain": [
       "                   model  precision    recall      f1  accuracy       AUC\n",
       "0  hr_random_forest_test   0.870406  0.903614  0.8867  0.961641  0.938407"
      ]
     },
     "execution_count": 15,
     "metadata": {},
     "output_type": "execute_result"
    }
   ],
   "source": [
    "# Get predictions on test data\n",
    "\n",
    "rf2_test_scores = get_scores('hr_random_forest_test', rf2, X_test, y_test)\n",
    "rf2_test_scores"
   ]
  },
  {
   "cell_type": "code",
   "execution_count": 16,
   "id": "38165a6c",
   "metadata": {},
   "outputs": [
    {
     "data": {
      "text/plain": [
       "<sklearn.metrics._plot.confusion_matrix.ConfusionMatrixDisplay at 0x1e9989ce050>"
      ]
     },
     "execution_count": 16,
     "metadata": {},
     "output_type": "execute_result"
    },
    {
     "data": {
      "image/png": "[encoded data removed]",
      "text/plain": [
       "<Figure size 640x480 with 2 Axes>"
      ]
     },
     "metadata": {},
     "output_type": "display_data"
    }
   ],
   "source": [
    "# Generate array of values for confusion matrix\n",
    "preds = rf2.best_estimator_.predict(X_test)\n",
    "cm = confusion_matrix(y_test, preds, labels=rf2.classes_)\n",
    "\n",
    "# Plot confusion matrix\n",
    "disp = ConfusionMatrixDisplay(confusion_matrix=cm,\n",
    "                             display_labels=rf2.classes_)\n",
    "disp.plot(values_format='')"
   ]
  },
  {
   "cell_type": "code",
   "execution_count": 17,
   "id": "c1c05d4a",
   "metadata": {},
   "outputs": [
    {
     "data": {
      "image/png": "[encoded data removed]",
      "text/plain": [
       "<Figure size 640x480 with 1 Axes>"
      ]
     },
     "metadata": {},
     "output_type": "display_data"
    }
   ],
   "source": [
    "# Get feature importances\n",
    "feat_impt = rf2.best_estimator_.feature_importances_\n",
    "\n",
    "# Get indices of top 10 features\n",
    "ind = np.argpartition(rf2.best_estimator_.feature_importances_, -10)[-10:]\n",
    "\n",
    "# Get column labels of top 10 features \n",
    "feat = X.columns[ind]\n",
    "\n",
    "# Filter `feat_impt` to consist of top 10 feature importances\n",
    "feat_impt = feat_impt[ind]\n",
    "\n",
    "y_df = pd.DataFrame({\"Feature\":feat,\"Importance\":feat_impt})\n",
    "y_sort_df = y_df.sort_values(\"Importance\")\n",
    "fig = plt.figure()\n",
    "ax1 = fig.add_subplot(111)\n",
    "\n",
    "y_sort_df.plot(kind='barh',ax=ax1,x=\"Feature\",y=\"Importance\")\n",
    "\n",
    "ax1.set_title(\"Random Forest: Feature Importances for Employee Leaving\", fontsize=12)\n",
    "ax1.set_ylabel(\"Feature\")\n",
    "ax1.set_xlabel(\"Importance\")\n",
    "\n",
    "plt.show()"
   ]
  },
  {
   "cell_type": "markdown",
   "id": "7a893b21",
   "metadata": {},
   "source": [
    "# Summary\n",
    "\n",
    "\n",
    "The plot above shows that in this random forest model, `last_evaluation`, `number_project`, `tenure`, and `overworked` have the highest importance, in that order. These variables are most helpful in predicting the outcome variable, `left`.\n",
    "\n",
    "The model predicts more false positives than false negatives, which means that some employees may be identified as at risk of quitting or getting fired, when that's actually not the case."
   ]
  }
 ],
 "metadata": {
  "kernelspec": {
   "display_name": "Google_capstone",
   "language": "python",
   "name": "google_capstone"
  },
  "language_info": {
   "codemirror_mode": {
    "name": "ipython",
    "version": 3
   },
   "file_extension": ".py",
   "mimetype": "text/x-python",
   "name": "python",
   "nbconvert_exporter": "python",
   "pygments_lexer": "ipython3",
   "version": "3.11.5"
  }
 },
 "nbformat": 4,
 "nbformat_minor": 5
}
